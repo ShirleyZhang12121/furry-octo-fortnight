{
 "cells": [
  {
   "cell_type": "markdown",
   "metadata": {},
   "source": [
    "## Array\n",
    "\n",
    "- Contiguous memory blocks of the same type\n",
    "  - It is a collection\n",
    "  - All elements in the array are of same type\n",
    "  - The elements are kept one after another in memory.\n",
    "  - The length of an array is constant once the memory for the array has been allocated.\n",
    "  \n",
    "  \n",
    "`[1, 2, 54, 27]` \n",
    "\n",
    "```\n",
    "mem address    ->      int values in memory\n",
    "\n",
    "memoryLoc1     ->        1\n",
    "memoryLoc2     ->        2\n",
    "memoryLoc3     ->        54\n",
    "memoryLoc4     ->        27\n",
    "```"
   ]
  },
  {
   "cell_type": "markdown",
   "metadata": {},
   "source": [
    "```\n",
    "00000001 00000010   00110110   <- value\n",
    "memLoc1   memLoc2   memLoc3            <- memory address\n",
    "```"
   ]
  },
  {
   "cell_type": "markdown",
   "metadata": {},
   "source": [
    "## List\n",
    "\n",
    " - A collection of objects. \n",
    "   - Each element can be of same or different type\n",
    "   - The length of a list is variable (number of elements)\n",
    "   - Each element tells the memory location of the next element.\n",
    "   - The elements are ordered.\n",
    "\n",
    "\n",
    "`l = [1, 2, 54, \"some_string\"]`\n",
    "```\n",
    "mem address    ->      ListNode\n",
    "\n",
    "memoryLoc1     ->        (value=1, nextNode = memoryLoc5)\n",
    "memoryLoc5     ->        (value=2, nextNode = memoryLoc84)\n",
    "memoryLoc3     -> ........ (Not a part of this list)\n",
    "memoryLoc84    ->        (value=54, nextNode = memoryLoc2)\n",
    "memoryLoc2     ->        (value=\"some_string\", nextNode = None)  # there is no element after this, hence the nextNode is undefined\n",
    "```\n"
   ]
  },
  {
   "cell_type": "code",
   "execution_count": 4,
   "metadata": {},
   "outputs": [],
   "source": [
    "## Implementation of a List\n",
    "class ListNode:\n",
    "    value = None\n",
    "    nextNode = None\n",
    "    \n",
    "    def __init__(self, v, nextNode):\n",
    "        self.value = v\n",
    "        self.nextNode = nextNode"
   ]
  },
  {
   "cell_type": "code",
   "execution_count": 5,
   "metadata": {},
   "outputs": [],
   "source": [
    "# Create a Linked List - 1, 2, 3\n",
    "z = ListNode(v = 3, nextNode = None) # Last node\n",
    "y = ListNode(v = 2, nextNode = z)\n",
    "x = ListNode(v = 1, nextNode = y)  # x is the first node / x is the root."
   ]
  },
  {
   "cell_type": "code",
   "execution_count": 6,
   "metadata": {},
   "outputs": [
    {
     "name": "stdout",
     "output_type": "stream",
     "text": [
      "1\n",
      "2\n",
      "3\n"
     ]
    }
   ],
   "source": [
    "print(x.value)\n",
    "print(x.nextNode.value)\n",
    "print(x.nextNode.nextNode.value)"
   ]
  },
  {
   "cell_type": "code",
   "execution_count": null,
   "metadata": {},
   "outputs": [],
   "source": [
    "[1,2,3]"
   ]
  },
  {
   "cell_type": "code",
   "execution_count": 7,
   "metadata": {},
   "outputs": [],
   "source": [
    "def show_list(root: ListNode) -> str:\n",
    "    # return str(root.value)+' '+str(root.nextNode.value)+' '+str(root.nextNode.nextNode.value)\n",
    "    \n",
    "    cur = root\n",
    "    s = \"\"\n",
    "    while cur.nextNode is not None:\n",
    "        s = s + str(cur.value) + \" \"\n",
    "        cur = cur.nextNode\n",
    "        \n",
    "    # cur is the last node\n",
    "    s = s + str(cur.value)\n",
    "    return s"
   ]
  },
  {
   "cell_type": "code",
   "execution_count": 8,
   "metadata": {},
   "outputs": [
    {
     "data": {
      "text/plain": [
       "True"
      ]
     },
     "execution_count": 8,
     "metadata": {},
     "output_type": "execute_result"
    }
   ],
   "source": [
    "show_list(x) == \"1 2 3\""
   ]
  },
  {
   "cell_type": "code",
   "execution_count": 9,
   "metadata": {},
   "outputs": [
    {
     "data": {
      "text/plain": [
       "True"
      ]
     },
     "execution_count": 9,
     "metadata": {},
     "output_type": "execute_result"
    }
   ],
   "source": [
    "show_list(y) == \"2 3\""
   ]
  },
  {
   "cell_type": "code",
   "execution_count": 10,
   "metadata": {},
   "outputs": [],
   "source": [
    "def linear_search(root: ListNode, s) -> bool:\n",
    "    \"\"\"\n",
    "    Search for the element `s` in the LinkedList whose root node is `root`.\n",
    "    If found return true else return false\n",
    "    \"\"\"\n",
    "    cur = root\n",
    "    while cur.nextNode is not None:\n",
    "        if s == cur.value:\n",
    "            return True\n",
    "        cur = cur.nextNode\n",
    "    if cur.value == s:\n",
    "        return True\n",
    "    else:\n",
    "        return False"
   ]
  },
  {
   "cell_type": "code",
   "execution_count": 11,
   "metadata": {},
   "outputs": [
    {
     "data": {
      "text/plain": [
       "False"
      ]
     },
     "execution_count": 11,
     "metadata": {},
     "output_type": "execute_result"
    }
   ],
   "source": [
    "linear_search(y,1)"
   ]
  },
  {
   "cell_type": "code",
   "execution_count": 34,
   "metadata": {},
   "outputs": [
    {
     "name": "stdout",
     "output_type": "stream",
     "text": [
      "4\n",
      "4\n",
      "None\n",
      "None\n",
      "5\n",
      "4\n",
      "Volvo\n",
      "None\n"
     ]
    }
   ],
   "source": [
    "class Car:\n",
    "    wheels = None\n",
    "    make = None\n",
    "    \n",
    "    def __init__(self):#each time an instance is created, the init function will be called for the given instance\n",
    "        self.wheels = 4\n",
    "    \n",
    "    \n",
    "    def print_make(self):\n",
    "        print(self.make)\n",
    "    \n",
    "volvo = Car()  # two instances of Car\n",
    "tesla = Car()\n",
    "\n",
    "print(volvo.wheels)\n",
    "print(tesla.wheels)\n",
    "volvo.wheels = 5\n",
    "print(volvo.print_make())\n",
    "volvo.make = \"Volvo\" #set the value of make\n",
    "tesla.make = \"Tesla\"\n",
    "print(volvo.wheels)\n",
    "print(tesla.wheels)\n",
    "print(volvo.print_make())"
   ]
  },
  {
   "cell_type": "code",
   "execution_count": 28,
   "metadata": {},
   "outputs": [],
   "source": [
    "l = [1, 2, 3]\n",
    "l2 = [4, 5, 6]"
   ]
  },
  {
   "cell_type": "markdown",
   "metadata": {},
   "source": [
    "## Stack"
   ]
  },
  {
   "cell_type": "markdown",
   "metadata": {},
   "source": [
    "A ordered collection of elements implemented as LIFO - Last In First Out\n",
    "\n",
    "```\n",
    "Stack s ...\n",
    "# Add two elements to the stack\n",
    "s.push(1)  - stack = [1]\n",
    "s.push(2)  - stack = [1, 2]\n",
    "\n",
    "# take out the last inserted element from the stack\n",
    "s.pop() -> 2, stack = [1]\n",
    "\n",
    "```\n",
    "\n",
    "\n",
    "A stack can be backed by an array or a linked list"
   ]
  },
  {
   "cell_type": "code",
   "execution_count": 38,
   "metadata": {},
   "outputs": [],
   "source": [
    "class Stack:\n",
    "    values = [] # By default empty list. No value has been added yet\n",
    "    \n",
    "    def push(self, elem):\n",
    "        \"\"\"\n",
    "        Add an element to the stack.\n",
    "        \"\"\"\n",
    "        print(\"Noe in push\")\n",
    "        self.values.append(elem)\n",
    "\n",
    "    def peek(self):\n",
    "        \"\"\"\n",
    "        Check what is the last added element, returns the last added element\n",
    "        This doesn't modify or delete anything from the stack.\n",
    "        \"\"\"\n",
    "        return self.values[-1]\n",
    "    \n",
    "    def pop():\n",
    "        \"\"\"\n",
    "        Remove the last element in the stack and return that element\n",
    "        \"\"\"\n",
    "        last_element = self.values[-1]\n",
    "        self.values = self.values[:-1]\n",
    "        return last_element\n",
    "    "
   ]
  },
  {
   "cell_type": "code",
   "execution_count": 42,
   "metadata": {},
   "outputs": [],
   "source": [
    "s = Stack()\n"
   ]
  },
  {
   "cell_type": "code",
   "execution_count": 68,
   "metadata": {},
   "outputs": [],
   "source": [
    "\"\"\"\n",
    "The above implementation modifies values.\n",
    "\n",
    "Write another implementation where we do not modify the values.\n",
    "\"\"\"\n",
    "\n",
    "class Stack:\n",
    "    values = None\n",
    "    max_size = None\n",
    "    \n",
    "    def __init__(self, max_size:int) -> Stack:\n",
    "        \"\"\"\n",
    "        returns an instance of the stack that can store a maximum of `max_size` elements.\n",
    "        \"\"\"\n",
    "        print(\n",
    "        \"Creating / initializing  instance\")\n",
    "        self.max_size = max_size\n",
    "        self.values = [None] * max_size\n",
    "        \n",
    "    \n",
    "    def push(self, elem):\n",
    "        \"\"\"\n",
    "        Add an element to the stack.\n",
    "        \"\"\"\n",
    "        i = 0\n",
    "        while self.values[i] is not None:\n",
    "            i = i+1\n",
    "        self.values[i] = elem\n",
    "                \n",
    "    \n",
    "    def peek(self):\n",
    "        \"\"\"\n",
    "        Check what is the last added element, returns the last added element\n",
    "        This doesn't modify or delete anything from the stack.\n",
    "        \"\"\"\n",
    "        i = self.max_size - 1\n",
    "        while self.values[i] is None:\n",
    "            i=i-1\n",
    "        return self.values[i]\n",
    "    \n",
    "    def pop(self):\n",
    "        \"\"\"\n",
    "        Remove the last element in the stack and return that element\n",
    "        \"\"\"\n",
    "        i = self.max_size - 1\n",
    "        while self.values[i] is None:\n",
    "            i=i-1\n",
    "        last_elem = self.values[i]\n",
    "        self.values[i] = None\n",
    "        return last_elem\n",
    "    "
   ]
  },
  {
   "cell_type": "code",
   "execution_count": 73,
   "metadata": {},
   "outputs": [
    {
     "name": "stdout",
     "output_type": "stream",
     "text": [
      "Creating / initializing  instance\n"
     ]
    }
   ],
   "source": [
    "s = Stack(4)  # create an instance of stack with max size 4"
   ]
  },
  {
   "cell_type": "code",
   "execution_count": 76,
   "metadata": {},
   "outputs": [
    {
     "ename": "IndexError",
     "evalue": "list index out of range",
     "output_type": "error",
     "traceback": [
      "\u001b[1;31m---------------------------------------------------------------------------\u001b[0m",
      "\u001b[1;31mIndexError\u001b[0m                                Traceback (most recent call last)",
      "\u001b[1;32m<ipython-input-76-a172077544c5>\u001b[0m in \u001b[0;36m<module>\u001b[1;34m()\u001b[0m\n\u001b[1;32m----> 1\u001b[1;33m \u001b[0ms\u001b[0m\u001b[1;33m.\u001b[0m\u001b[0mpush\u001b[0m\u001b[1;33m(\u001b[0m\u001b[1;36m1\u001b[0m\u001b[1;33m)\u001b[0m\u001b[1;33m\u001b[0m\u001b[0m\n\u001b[0m\u001b[0;32m      2\u001b[0m \u001b[0ms\u001b[0m\u001b[1;33m.\u001b[0m\u001b[0mpush\u001b[0m\u001b[1;33m(\u001b[0m\u001b[1;36m1\u001b[0m\u001b[1;33m)\u001b[0m\u001b[1;33m\u001b[0m\u001b[0m\n\u001b[0;32m      3\u001b[0m \u001b[0ms\u001b[0m\u001b[1;33m.\u001b[0m\u001b[0mpush\u001b[0m\u001b[1;33m(\u001b[0m\u001b[1;36m1\u001b[0m\u001b[1;33m)\u001b[0m\u001b[1;33m\u001b[0m\u001b[0m\n\u001b[0;32m      4\u001b[0m \u001b[0ms\u001b[0m\u001b[1;33m.\u001b[0m\u001b[0mpush\u001b[0m\u001b[1;33m(\u001b[0m\u001b[1;36m1\u001b[0m\u001b[1;33m)\u001b[0m\u001b[1;33m\u001b[0m\u001b[0m\n",
      "\u001b[1;32m<ipython-input-68-f507a7ddeb21>\u001b[0m in \u001b[0;36mpush\u001b[1;34m(self, elem)\u001b[0m\n\u001b[0;32m     24\u001b[0m         \"\"\"\n\u001b[0;32m     25\u001b[0m         \u001b[0mi\u001b[0m \u001b[1;33m=\u001b[0m \u001b[1;36m0\u001b[0m\u001b[1;33m\u001b[0m\u001b[0m\n\u001b[1;32m---> 26\u001b[1;33m         \u001b[1;32mwhile\u001b[0m \u001b[0mself\u001b[0m\u001b[1;33m.\u001b[0m\u001b[0mvalues\u001b[0m\u001b[1;33m[\u001b[0m\u001b[0mi\u001b[0m\u001b[1;33m]\u001b[0m \u001b[1;32mis\u001b[0m \u001b[1;32mnot\u001b[0m \u001b[1;32mNone\u001b[0m\u001b[1;33m:\u001b[0m\u001b[1;33m\u001b[0m\u001b[0m\n\u001b[0m\u001b[0;32m     27\u001b[0m             \u001b[0mi\u001b[0m \u001b[1;33m=\u001b[0m \u001b[0mi\u001b[0m\u001b[1;33m+\u001b[0m\u001b[1;36m1\u001b[0m\u001b[1;33m\u001b[0m\u001b[0m\n\u001b[0;32m     28\u001b[0m         \u001b[0mself\u001b[0m\u001b[1;33m.\u001b[0m\u001b[0mvalues\u001b[0m\u001b[1;33m[\u001b[0m\u001b[0mi\u001b[0m\u001b[1;33m]\u001b[0m \u001b[1;33m=\u001b[0m \u001b[0melem\u001b[0m\u001b[1;33m\u001b[0m\u001b[0m\n",
      "\u001b[1;31mIndexError\u001b[0m: list index out of range"
     ]
    }
   ],
   "source": [
    "s.push(1)\n",
    "s.push(1)\n",
    "s.push(1)\n",
    "s.push(1)\n"
   ]
  },
  {
   "cell_type": "code",
   "execution_count": 64,
   "metadata": {},
   "outputs": [
    {
     "data": {
      "text/plain": [
       "4"
      ]
     },
     "execution_count": 64,
     "metadata": {},
     "output_type": "execute_result"
    }
   ],
   "source": [
    "s.peek()"
   ]
  },
  {
   "cell_type": "code",
   "execution_count": 65,
   "metadata": {},
   "outputs": [
    {
     "ename": "IndexError",
     "evalue": "list index out of range",
     "output_type": "error",
     "traceback": [
      "\u001b[1;31m---------------------------------------------------------------------------\u001b[0m",
      "\u001b[1;31mIndexError\u001b[0m                                Traceback (most recent call last)",
      "\u001b[1;32m<ipython-input-65-9c28f85762ab>\u001b[0m in \u001b[0;36m<module>\u001b[1;34m()\u001b[0m\n\u001b[1;32m----> 1\u001b[1;33m \u001b[0ms\u001b[0m\u001b[1;33m.\u001b[0m\u001b[0mpush\u001b[0m\u001b[1;33m(\u001b[0m\u001b[1;36m10\u001b[0m\u001b[1;33m)\u001b[0m\u001b[1;33m\u001b[0m\u001b[0m\n\u001b[0m",
      "\u001b[1;32m<ipython-input-56-f507a7ddeb21>\u001b[0m in \u001b[0;36mpush\u001b[1;34m(self, elem)\u001b[0m\n\u001b[0;32m     24\u001b[0m         \"\"\"\n\u001b[0;32m     25\u001b[0m         \u001b[0mi\u001b[0m \u001b[1;33m=\u001b[0m \u001b[1;36m0\u001b[0m\u001b[1;33m\u001b[0m\u001b[0m\n\u001b[1;32m---> 26\u001b[1;33m         \u001b[1;32mwhile\u001b[0m \u001b[0mself\u001b[0m\u001b[1;33m.\u001b[0m\u001b[0mvalues\u001b[0m\u001b[1;33m[\u001b[0m\u001b[0mi\u001b[0m\u001b[1;33m]\u001b[0m \u001b[1;32mis\u001b[0m \u001b[1;32mnot\u001b[0m \u001b[1;32mNone\u001b[0m\u001b[1;33m:\u001b[0m\u001b[1;33m\u001b[0m\u001b[0m\n\u001b[0m\u001b[0;32m     27\u001b[0m             \u001b[0mi\u001b[0m \u001b[1;33m=\u001b[0m \u001b[0mi\u001b[0m\u001b[1;33m+\u001b[0m\u001b[1;36m1\u001b[0m\u001b[1;33m\u001b[0m\u001b[0m\n\u001b[0;32m     28\u001b[0m         \u001b[0mself\u001b[0m\u001b[1;33m.\u001b[0m\u001b[0mvalues\u001b[0m\u001b[1;33m[\u001b[0m\u001b[0mi\u001b[0m\u001b[1;33m]\u001b[0m \u001b[1;33m=\u001b[0m \u001b[0melem\u001b[0m\u001b[1;33m\u001b[0m\u001b[0m\n",
      "\u001b[1;31mIndexError\u001b[0m: list index out of range"
     ]
    }
   ],
   "source": [
    "s.push(10)"
   ]
  },
  {
   "cell_type": "code",
   "execution_count": 66,
   "metadata": {},
   "outputs": [
    {
     "data": {
      "text/plain": [
       "4"
      ]
     },
     "execution_count": 66,
     "metadata": {},
     "output_type": "execute_result"
    }
   ],
   "source": [
    "s.peek()"
   ]
  },
  {
   "cell_type": "code",
   "execution_count": 67,
   "metadata": {},
   "outputs": [
    {
     "data": {
      "text/plain": [
       "4"
      ]
     },
     "execution_count": 67,
     "metadata": {},
     "output_type": "execute_result"
    }
   ],
   "source": [
    "s.pop()"
   ]
  },
  {
   "cell_type": "code",
   "execution_count": null,
   "metadata": {},
   "outputs": [],
   "source": []
  },
  {
   "cell_type": "code",
   "execution_count": 105,
   "metadata": {},
   "outputs": [],
   "source": [
    "\"\"\"\n",
    "The above implementation modifies values.\n",
    "\n",
    "Write another implementation where we do not modify the values.\n",
    "push, pop and peek should be O(1)\n",
    "\"\"\"\n",
    "\n",
    "class Stack:\n",
    "    values = None\n",
    "    top = None # Index of the element at the top of the Stack (for stack this is the last inserted element)\n",
    "    \n",
    "    def __init__(self, max_size:int) -> Stack:\n",
    "        \"\"\"\n",
    "        returns an instance of the stack that can store a maximum of `max_size` elements.\n",
    "        \"\"\"\n",
    "        self.values = [None] * max_size\n",
    "        self.top = -1\n",
    "    \n",
    "    def push(self, elem):\n",
    "        \"\"\"\n",
    "        Add an element to the stack.\n",
    "        \"\"\"\n",
    "        self.top = self.top + 1\n",
    "        if self.top == len(self.values):\n",
    "            raise ValueError(\"Stack is full\")\n",
    "        self.values[self.top] = elem\n",
    "                \n",
    "    \n",
    "    def peek(self):\n",
    "        \"\"\"\n",
    "        Check what is the last added element, returns the last added element\n",
    "        This doesn't modify or delete anything from the stack.\n",
    "        \"\"\"\n",
    "        if self.top == -1:\n",
    "            raise ValueError(\"Empty stack\")\n",
    "        return self.values[self.top]\n",
    "   \n",
    "    def pop(self):\n",
    "        \"\"\"\n",
    "        Remove the last element in the stack and return that element\n",
    "        \"\"\"\n",
    "        if self.top == -1 :\n",
    "            raise ValueError(\"Empty stack\")\n",
    "        last_elem = self.values[self.top]\n",
    "        self.values[self.top] = None\n",
    "        self.top = self.top - 1\n",
    "        return last_elem\n",
    "    \n",
    "    def __str__(self):\n",
    "        return \"Top is \" + str(self.top) + \" and Values are : \" + str(self.values)\n",
    "   "
   ]
  },
  {
   "cell_type": "code",
   "execution_count": 106,
   "metadata": {},
   "outputs": [
    {
     "name": "stdout",
     "output_type": "stream",
     "text": [
      "Top is -1 and Values are : [None, None, None]\n"
     ]
    }
   ],
   "source": [
    "c = Stack(3)\n",
    "print(c)"
   ]
  },
  {
   "cell_type": "code",
   "execution_count": 107,
   "metadata": {},
   "outputs": [
    {
     "name": "stdout",
     "output_type": "stream",
     "text": [
      "Top is 0 and Values are : [1, None, None]\n"
     ]
    }
   ],
   "source": [
    "c.push(1)\n",
    "print(c)"
   ]
  },
  {
   "cell_type": "code",
   "execution_count": 108,
   "metadata": {},
   "outputs": [
    {
     "name": "stdout",
     "output_type": "stream",
     "text": [
      "Top is 1 and Values are : [1, 4, None]\n"
     ]
    }
   ],
   "source": [
    "c.push(4)\n",
    "print(c)"
   ]
  },
  {
   "cell_type": "code",
   "execution_count": 109,
   "metadata": {},
   "outputs": [
    {
     "data": {
      "text/plain": [
       "4"
      ]
     },
     "execution_count": 109,
     "metadata": {},
     "output_type": "execute_result"
    }
   ],
   "source": [
    "c.peek()"
   ]
  },
  {
   "cell_type": "code",
   "execution_count": 110,
   "metadata": {},
   "outputs": [
    {
     "name": "stdout",
     "output_type": "stream",
     "text": [
      "Top is 0 and Values are : [1, None, None]\n"
     ]
    }
   ],
   "source": [
    "c.pop()\n",
    "print(c)"
   ]
  },
  {
   "cell_type": "code",
   "execution_count": 111,
   "metadata": {},
   "outputs": [
    {
     "name": "stdout",
     "output_type": "stream",
     "text": [
      "Top is -1 and Values are : [None, None, None]\n"
     ]
    }
   ],
   "source": [
    "c.pop()\n",
    "print(c)"
   ]
  },
  {
   "cell_type": "code",
   "execution_count": 112,
   "metadata": {
    "scrolled": true
   },
   "outputs": [
    {
     "ename": "ValueError",
     "evalue": "Empty stack",
     "output_type": "error",
     "traceback": [
      "\u001b[1;31m---------------------------------------------------------------------------\u001b[0m",
      "\u001b[1;31mValueError\u001b[0m                                Traceback (most recent call last)",
      "\u001b[1;32m<ipython-input-112-94918705af43>\u001b[0m in \u001b[0;36m<module>\u001b[1;34m()\u001b[0m\n\u001b[1;32m----> 1\u001b[1;33m \u001b[0mc\u001b[0m\u001b[1;33m.\u001b[0m\u001b[0mpeek\u001b[0m\u001b[1;33m(\u001b[0m\u001b[1;33m)\u001b[0m\u001b[1;33m\u001b[0m\u001b[0m\n\u001b[0m",
      "\u001b[1;32m<ipython-input-105-8abe12e3028f>\u001b[0m in \u001b[0;36mpeek\u001b[1;34m(self)\u001b[0m\n\u001b[0;32m     33\u001b[0m         \"\"\"\n\u001b[0;32m     34\u001b[0m         \u001b[1;32mif\u001b[0m \u001b[0mself\u001b[0m\u001b[1;33m.\u001b[0m\u001b[0mtop\u001b[0m \u001b[1;33m==\u001b[0m \u001b[1;33m-\u001b[0m\u001b[1;36m1\u001b[0m\u001b[1;33m:\u001b[0m\u001b[1;33m\u001b[0m\u001b[0m\n\u001b[1;32m---> 35\u001b[1;33m             \u001b[1;32mraise\u001b[0m \u001b[0mValueError\u001b[0m\u001b[1;33m(\u001b[0m\u001b[1;34m\"Empty stack\"\u001b[0m\u001b[1;33m)\u001b[0m\u001b[1;33m\u001b[0m\u001b[0m\n\u001b[0m\u001b[0;32m     36\u001b[0m         \u001b[1;32mreturn\u001b[0m \u001b[0mself\u001b[0m\u001b[1;33m.\u001b[0m\u001b[0mvalues\u001b[0m\u001b[1;33m[\u001b[0m\u001b[0mself\u001b[0m\u001b[1;33m.\u001b[0m\u001b[0mtop\u001b[0m\u001b[1;33m]\u001b[0m\u001b[1;33m\u001b[0m\u001b[0m\n\u001b[0;32m     37\u001b[0m \u001b[1;33m\u001b[0m\u001b[0m\n",
      "\u001b[1;31mValueError\u001b[0m: Empty stack"
     ]
    }
   ],
   "source": [
    "c.peek()"
   ]
  },
  {
   "cell_type": "code",
   "execution_count": 114,
   "metadata": {},
   "outputs": [
    {
     "ename": "ValueError",
     "evalue": "Empty stack",
     "output_type": "error",
     "traceback": [
      "\u001b[1;31m---------------------------------------------------------------------------\u001b[0m",
      "\u001b[1;31mValueError\u001b[0m                                Traceback (most recent call last)",
      "\u001b[1;32m<ipython-input-114-c53a93bfccc7>\u001b[0m in \u001b[0;36m<module>\u001b[1;34m()\u001b[0m\n\u001b[1;32m----> 1\u001b[1;33m \u001b[0mc\u001b[0m\u001b[1;33m.\u001b[0m\u001b[0mpop\u001b[0m\u001b[1;33m(\u001b[0m\u001b[1;33m)\u001b[0m\u001b[1;33m\u001b[0m\u001b[0m\n\u001b[0m",
      "\u001b[1;32m<ipython-input-105-8abe12e3028f>\u001b[0m in \u001b[0;36mpop\u001b[1;34m(self)\u001b[0m\n\u001b[0;32m     41\u001b[0m         \"\"\"\n\u001b[0;32m     42\u001b[0m         \u001b[1;32mif\u001b[0m \u001b[0mself\u001b[0m\u001b[1;33m.\u001b[0m\u001b[0mtop\u001b[0m \u001b[1;33m==\u001b[0m \u001b[1;33m-\u001b[0m\u001b[1;36m1\u001b[0m \u001b[1;33m:\u001b[0m\u001b[1;33m\u001b[0m\u001b[0m\n\u001b[1;32m---> 43\u001b[1;33m             \u001b[1;32mraise\u001b[0m \u001b[0mValueError\u001b[0m\u001b[1;33m(\u001b[0m\u001b[1;34m\"Empty stack\"\u001b[0m\u001b[1;33m)\u001b[0m\u001b[1;33m\u001b[0m\u001b[0m\n\u001b[0m\u001b[0;32m     44\u001b[0m         \u001b[0mlast_elem\u001b[0m \u001b[1;33m=\u001b[0m \u001b[0mself\u001b[0m\u001b[1;33m.\u001b[0m\u001b[0mvalues\u001b[0m\u001b[1;33m[\u001b[0m\u001b[0mself\u001b[0m\u001b[1;33m.\u001b[0m\u001b[0mtop\u001b[0m\u001b[1;33m]\u001b[0m\u001b[1;33m\u001b[0m\u001b[0m\n\u001b[0;32m     45\u001b[0m         \u001b[0mself\u001b[0m\u001b[1;33m.\u001b[0m\u001b[0mvalues\u001b[0m\u001b[1;33m[\u001b[0m\u001b[0mself\u001b[0m\u001b[1;33m.\u001b[0m\u001b[0mtop\u001b[0m\u001b[1;33m]\u001b[0m \u001b[1;33m=\u001b[0m \u001b[1;32mNone\u001b[0m\u001b[1;33m\u001b[0m\u001b[0m\n",
      "\u001b[1;31mValueError\u001b[0m: Empty stack"
     ]
    }
   ],
   "source": [
    "c.pop()"
   ]
  },
  {
   "cell_type": "code",
   "execution_count": 115,
   "metadata": {},
   "outputs": [
    {
     "name": "stdout",
     "output_type": "stream",
     "text": [
      "Top is 2 and Values are : [1, 2, 3]\n"
     ]
    }
   ],
   "source": [
    "c.push(1)\n",
    "c.push(2)\n",
    "c.push(3)\n",
    "print(c)"
   ]
  },
  {
   "cell_type": "code",
   "execution_count": 117,
   "metadata": {},
   "outputs": [
    {
     "ename": "ValueError",
     "evalue": "Stack is full",
     "output_type": "error",
     "traceback": [
      "\u001b[1;31m---------------------------------------------------------------------------\u001b[0m",
      "\u001b[1;31mValueError\u001b[0m                                Traceback (most recent call last)",
      "\u001b[1;32m<ipython-input-117-dbae21e96365>\u001b[0m in \u001b[0;36m<module>\u001b[1;34m()\u001b[0m\n\u001b[1;32m----> 1\u001b[1;33m \u001b[0mc\u001b[0m\u001b[1;33m.\u001b[0m\u001b[0mpush\u001b[0m\u001b[1;33m(\u001b[0m\u001b[1;36m1\u001b[0m\u001b[1;33m)\u001b[0m\u001b[1;33m\u001b[0m\u001b[0m\n\u001b[0m",
      "\u001b[1;32m<ipython-input-105-8abe12e3028f>\u001b[0m in \u001b[0;36mpush\u001b[1;34m(self, elem)\u001b[0m\n\u001b[0;32m     23\u001b[0m         \u001b[0mself\u001b[0m\u001b[1;33m.\u001b[0m\u001b[0mtop\u001b[0m \u001b[1;33m=\u001b[0m \u001b[0mself\u001b[0m\u001b[1;33m.\u001b[0m\u001b[0mtop\u001b[0m \u001b[1;33m+\u001b[0m \u001b[1;36m1\u001b[0m\u001b[1;33m\u001b[0m\u001b[0m\n\u001b[0;32m     24\u001b[0m         \u001b[1;32mif\u001b[0m \u001b[0mself\u001b[0m\u001b[1;33m.\u001b[0m\u001b[0mtop\u001b[0m \u001b[1;33m==\u001b[0m \u001b[0mlen\u001b[0m\u001b[1;33m(\u001b[0m\u001b[0mself\u001b[0m\u001b[1;33m.\u001b[0m\u001b[0mvalues\u001b[0m\u001b[1;33m)\u001b[0m\u001b[1;33m:\u001b[0m\u001b[1;33m\u001b[0m\u001b[0m\n\u001b[1;32m---> 25\u001b[1;33m             \u001b[1;32mraise\u001b[0m \u001b[0mValueError\u001b[0m\u001b[1;33m(\u001b[0m\u001b[1;34m\"Stack is full\"\u001b[0m\u001b[1;33m)\u001b[0m\u001b[1;33m\u001b[0m\u001b[0m\n\u001b[0m\u001b[0;32m     26\u001b[0m         \u001b[0mself\u001b[0m\u001b[1;33m.\u001b[0m\u001b[0mvalues\u001b[0m\u001b[1;33m[\u001b[0m\u001b[0mself\u001b[0m\u001b[1;33m.\u001b[0m\u001b[0mtop\u001b[0m\u001b[1;33m]\u001b[0m \u001b[1;33m=\u001b[0m \u001b[0melem\u001b[0m\u001b[1;33m\u001b[0m\u001b[0m\n\u001b[0;32m     27\u001b[0m \u001b[1;33m\u001b[0m\u001b[0m\n",
      "\u001b[1;31mValueError\u001b[0m: Stack is full"
     ]
    }
   ],
   "source": [
    "c.push(1)"
   ]
  },
  {
   "cell_type": "code",
   "execution_count": null,
   "metadata": {},
   "outputs": [],
   "source": [
    "#Using Linked List for Stack\n",
    "\"\"\"\n",
    "The above implementation modifies values.\n",
    "\n",
    "Write another implementation where we do not modify the values.\n",
    "push, pop and peek should be O(1)\n",
    "\"\"\"\n",
    "\n",
    "class Stack:\n",
    "    values = None\n",
    "    \n",
    "    \n",
    "    def __init__(self):\n",
    "        \n",
    "        self.values = None\n",
    "        \n",
    " \n",
    "    def push(self, elem):\n",
    "        \"\"\"\n",
    "        Add an element to the stack.\n",
    "        \"\"\"\n",
    "        if values is None:\n",
    "            self.values = ListNode(elem, nextNode = None)\n",
    "        else:\n",
    "            self.values = ListNode(elem, nextNode = self.values)\n",
    "                \n",
    "    \n",
    "    def peek(self):\n",
    "        \"\"\"\n",
    "        Check what is the last added element, returns the last added element\n",
    "        This doesn't modify or delete anything from the stack.\n",
    "        \"\"\"\n",
    "        if self.values is None :\n",
    "            raise ValueError(\"Empty stack\")\n",
    "        return self.values.values\n",
    "   \n",
    "    def pop(self):\n",
    "        \"\"\"\n",
    "        Remove the last element in the stack and return that element\n",
    "        \"\"\"\n",
    "        if self.values is None :\n",
    "            raise ValueError(\"Empty stack\")\n",
    "        last_elem = self.values.values\n",
    "        self.values = self.values.nextNode.values\n",
    "        return last_elem\n",
    "    \n",
    "    def __str__(self):\n",
    "        return \"Top is \" + str(self.top) + \" and Values are : \" + str(self.values)\n",
    "   "
   ]
  },
  {
   "cell_type": "code",
   "execution_count": null,
   "metadata": {},
   "outputs": [],
   "source": [
    "s = Stack()"
   ]
  },
  {
   "cell_type": "code",
   "execution_count": 63,
   "metadata": {},
   "outputs": [],
   "source": [
    "a = [1, 2, 3]\n",
    "a.append(4)"
   ]
  },
  {
   "cell_type": "code",
   "execution_count": 64,
   "metadata": {},
   "outputs": [
    {
     "data": {
      "text/plain": [
       "[1, 2, 3]"
      ]
     },
     "execution_count": 64,
     "metadata": {},
     "output_type": "execute_result"
    }
   ],
   "source": [
    "a[:-1]"
   ]
  },
  {
   "cell_type": "code",
   "execution_count": 2,
   "metadata": {},
   "outputs": [
    {
     "data": {
      "text/plain": [
       "[None, None, None, None]"
      ]
     },
     "execution_count": 2,
     "metadata": {},
     "output_type": "execute_result"
    }
   ],
   "source": [
    "v = [None] * 4\n",
    "v"
   ]
  },
  {
   "cell_type": "markdown",
   "metadata": {},
   "source": [
    "### Queue\n",
    "\n",
    "Very similar to stack, however follows FIFO ordering. First element inserted is the first to be remvoed.\n"
   ]
  },
  {
   "cell_type": "code",
   "execution_count": 68,
   "metadata": {},
   "outputs": [],
   "source": [
    "class Queue:\n",
    "    values = None\n",
    "    top = None\n",
    "    def __init__(self, max_size:int):\n",
    "        \"\"\"\n",
    "        returns an instance of the Queue that can store a maximum of `max_size` elements.\n",
    "        \"\"\"\n",
    "        self.values = [None] * max_size\n",
    "        self.top = 0\n",
    "    \n",
    "    def enqueue(self, elem):\n",
    "        \"\"\"\n",
    "        Add an element to the queue.\n",
    "        \"\"\"\n",
    "        self.top = self.top - 1\n",
    "        if self.top > len(self.values):\n",
    "            raise ValueError (\"Stack is full\")\n",
    "        self.values[self.top] = elem\n",
    "    \n",
    "    def peek():\n",
    "        \"\"\"\n",
    "        Returns the first element that is present in the given queue\n",
    "        This doesn't modify or delete anything from the queue.\n",
    "        \"\"\"\n",
    "        return self.values[-1]\n",
    "    \n",
    "    def dequeue():\n",
    "        \"\"\"\n",
    "        Remove the first element in the queue and returns that element\n",
    "        \"\"\"\n",
    "        if self.top >= 0:\n",
    "            raise ValueError(\"Empty Stack\")\n",
    "        first_elem = self.values[-1]\n",
    "        self.values = [None] + self.values[:-1]\n",
    "        self.top = self.top + 1\n",
    "        return first_elem\n",
    "    "
   ]
  },
  {
   "cell_type": "code",
   "execution_count": 118,
   "metadata": {},
   "outputs": [
    {
     "data": {
      "text/plain": [
       "[1]"
      ]
     },
     "execution_count": 118,
     "metadata": {},
     "output_type": "execute_result"
    }
   ],
   "source": [
    "v = [1] + [2]\n",
    "v[:-1]"
   ]
  }
 ],
 "metadata": {
  "kernelspec": {
   "display_name": "Python 3",
   "language": "python",
   "name": "python3"
  },
  "language_info": {
   "codemirror_mode": {
    "name": "ipython",
    "version": 3
   },
   "file_extension": ".py",
   "mimetype": "text/x-python",
   "name": "python",
   "nbconvert_exporter": "python",
   "pygments_lexer": "ipython3",
   "version": "3.6.4"
  }
 },
 "nbformat": 4,
 "nbformat_minor": 2
}
