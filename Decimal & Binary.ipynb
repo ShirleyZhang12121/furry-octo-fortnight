{
 "cells": [
  {
   "cell_type": "code",
   "execution_count": 75,
   "metadata": {},
   "outputs": [
    {
     "data": {
      "text/plain": [
       "1"
      ]
     },
     "execution_count": 75,
     "metadata": {},
     "output_type": "execute_result"
    }
   ],
   "source": [
    "decimal = 4\n",
    "\"100\"\n",
    "\n",
    "4//2\n",
    "2//2"
   ]
  },
  {
   "cell_type": "raw",
   "metadata": {},
   "source": [
    "binary:\n",
    "    0, 1\n",
    "    number (in binary) => 0 1 0 0\n",
    "    decimal =>     2^3 * 0 + 2^2 * 1 + 2^1 * 0 + 2^0 * 0\n",
    "     \n",
    "    1 0 1 - binary\n",
    "    \n",
    "    1        0         1\n",
    "    *        *         *\n",
    "    2^2     2^1       2^0\n",
    "        +         + \n",
    "    4   +    0    +     1  = 5 (in decimal)"
   ]
  },
  {
   "cell_type": "code",
   "execution_count": 45,
   "metadata": {},
   "outputs": [],
   "source": [
    "def bin_to_dec(b: str) -> int:\n",
    "    n = len(b)\n",
    "    q=0\n",
    "    p=0\n",
    "    for i in range(n-1,-1,-1):\n",
    "        m = int(b[i])\n",
    "        p = p+ (2**q *m)\n",
    "        q=q+1\n",
    "    return p\n"
   ]
  },
  {
   "cell_type": "code",
   "execution_count": 46,
   "metadata": {},
   "outputs": [
    {
     "data": {
      "text/plain": [
       "5"
      ]
     },
     "execution_count": 46,
     "metadata": {},
     "output_type": "execute_result"
    }
   ],
   "source": [
    "bin_to_dec(\"101\")"
   ]
  },
  {
   "cell_type": "code",
   "execution_count": 82,
   "metadata": {},
   "outputs": [],
   "source": [
    "def dec_to_bin(d:int) -> str:\n",
    "    p = d\n",
    "    s = ''\n",
    "    while p > 0:\n",
    "        m = p % 2\n",
    "        if m >= 1:\n",
    "            s = str(m) + s\n",
    "        else:\n",
    "            s = '0' + s\n",
    "        p = p // 2\n",
    "    return s"
   ]
  },
  {
   "cell_type": "code",
   "execution_count": 83,
   "metadata": {},
   "outputs": [
    {
     "data": {
      "text/plain": [
       "'101'"
      ]
     },
     "execution_count": 83,
     "metadata": {},
     "output_type": "execute_result"
    }
   ],
   "source": [
    "dec_to_bin(5)"
   ]
  },
  {
   "cell_type": "code",
   "execution_count": 25,
   "metadata": {},
   "outputs": [
    {
     "data": {
      "text/plain": [
       "[2, 1, 0]"
      ]
     },
     "execution_count": 25,
     "metadata": {},
     "output_type": "execute_result"
    }
   ],
   "source": [
    "list(range(3-1, -1, -1))"
   ]
  },
  {
   "cell_type": "code",
   "execution_count": 5,
   "metadata": {},
   "outputs": [
    {
     "data": {
      "text/plain": [
       "[2, 1]"
      ]
     },
     "execution_count": 5,
     "metadata": {},
     "output_type": "execute_result"
    }
   ],
   "source": [
    "a = [1, 2]\n",
    "a.reverse()\n",
    "a"
   ]
  },
  {
   "cell_type": "code",
   "execution_count": 10,
   "metadata": {},
   "outputs": [
    {
     "data": {
      "text/plain": [
       "'h'"
      ]
     },
     "execution_count": 10,
     "metadata": {},
     "output_type": "execute_result"
    }
   ],
   "source": [
    "\"abshed\""
   ]
  },
  {
   "cell_type": "code",
   "execution_count": 12,
   "metadata": {},
   "outputs": [
    {
     "data": {
      "text/plain": [
       "[0, 1, 2]"
      ]
     },
     "execution_count": 12,
     "metadata": {},
     "output_type": "execute_result"
    }
   ],
   "source": [
    "list(range(3))"
   ]
  },
  {
   "cell_type": "code",
   "execution_count": 73,
   "metadata": {},
   "outputs": [
    {
     "data": {
      "text/plain": [
       "[5, 4, 3, 2, 1]"
      ]
     },
     "execution_count": 73,
     "metadata": {},
     "output_type": "execute_result"
    }
   ],
   "source": [
    "list(range(5, 0, -1))"
   ]
  },
  {
   "cell_type": "code",
   "execution_count": 15,
   "metadata": {},
   "outputs": [
    {
     "data": {
      "text/plain": [
       "[3, 5, 7, 9]"
      ]
     },
     "execution_count": 15,
     "metadata": {},
     "output_type": "execute_result"
    }
   ],
   "source": [
    "list(range(3, 11, 2))"
   ]
  },
  {
   "cell_type": "code",
   "execution_count": 53,
   "metadata": {},
   "outputs": [
    {
     "ename": "SyntaxError",
     "evalue": "invalid syntax (<ipython-input-53-c5a23a8884db>, line 1)",
     "output_type": "error",
     "traceback": [
      "\u001b[1;36m  File \u001b[1;32m\"<ipython-input-53-c5a23a8884db>\"\u001b[1;36m, line \u001b[1;32m1\u001b[0m\n\u001b[1;33m    {'10': 'A', '11': 'B', ...}\u001b[0m\n\u001b[1;37m                              ^\u001b[0m\n\u001b[1;31mSyntaxError\u001b[0m\u001b[1;31m:\u001b[0m invalid syntax\n"
     ]
    }
   ],
   "source": []
  },
  {
   "cell_type": "code",
   "execution_count": 68,
   "metadata": {},
   "outputs": [],
   "source": [
    "def dec_to_hexadeci(d: int) -> str:\n",
    "    \"\"\"\n",
    "    base 10 to base 16\n",
    "    hexadecimal = 0 to 9, A to F\n",
    "    \"\"\"\n",
    "    lookup = {10: 'A', 11: 'B', 12: 'C', 13: 'D', 14: 'E', 15: 'F'}\n",
    "    temp = d\n",
    "    out = \"\"\n",
    "    while temp > 0: \n",
    "        m = temp % 16\n",
    "        if m >= 10:\n",
    "            m = str(lookup[m])\n",
    "        else:\n",
    "            m = str(m)\n",
    "        out = m + out\n",
    "        temp = temp // 16\n",
    "    return out\n",
    "    "
   ]
  },
  {
   "cell_type": "code",
   "execution_count": 69,
   "metadata": {},
   "outputs": [
    {
     "data": {
      "text/plain": [
       "'1A'"
      ]
     },
     "execution_count": 69,
     "metadata": {},
     "output_type": "execute_result"
    }
   ],
   "source": [
    "dec_to_hexadeci(26)"
   ]
  },
  {
   "cell_type": "code",
   "execution_count": 88,
   "metadata": {},
   "outputs": [
    {
     "data": {
      "text/plain": [
       "'B'"
      ]
     },
     "execution_count": 88,
     "metadata": {},
     "output_type": "execute_result"
    }
   ],
   "source": [
    "lookup = {10: 'A', 11: 'B', 12: 'C', 13: 'D', 14: 'E', 15: 'F'}\n",
    "lookup[11]"
   ]
  },
  {
   "cell_type": "code",
   "execution_count": 55,
   "metadata": {},
   "outputs": [
    {
     "data": {
      "text/plain": [
       "2"
      ]
     },
     "execution_count": 55,
     "metadata": {},
     "output_type": "execute_result"
    }
   ],
   "source": [
    "5//2"
   ]
  },
  {
   "cell_type": "raw",
   "metadata": {},
   "source": [
    "decimal -> hexadecimal\n",
    "    0 -> 0\n",
    "    1 -> 1\n",
    "    2 -> 2\n",
    "    ...\n",
    "    9 -> 9\n",
    "    10 -> A\n",
    "    11 -> B\n",
    "    12 -> C\n",
    "    ...\n",
    "    15 -> F\n",
    "    16 -> 10\n",
    "    17 -> 11\n",
    "    ...\n",
    "    26 -> 1A\n",
    "    \n",
    "    \n",
    " 1A =>\n",
    " \n",
    " 16^1 * 1   +   16^0 * A where A is 10 in decimal\n",
    "= 16 + 10 = 26"
   ]
  },
  {
   "cell_type": "raw",
   "metadata": {},
   "source": [
    "dec_to_hexadeci(26) == \"1A\""
   ]
  },
  {
   "cell_type": "code",
   "execution_count": 98,
   "metadata": {},
   "outputs": [],
   "source": [
    "def hexadecimal_to_octal(h: str) -> str:\n",
    "    \"\"\"\n",
    "    base 16 to base 8\n",
    "    \"\"\"\n",
    "    lookup = {10: 'A', 11: 'B', 12: 'C', 13: 'D', 14: 'E', 15: 'F'}\n",
    "    # convert hexadeci to decimal\n",
    "    n = len(h)\n",
    "    p = 0\n",
    "    q = 0\n",
    "    for i in range(n-1, -1, -1):\n",
    "        m = h[i]\n",
    "        if m in lookup.values():\n",
    "            m = int(list(lookup.keys())[list(lookup.values()).index('E')])\n",
    "        else:\n",
    "            m = int(m)\n",
    "        p = p + 16**q*m\n",
    "        q = q + 1\n",
    "    # p is the decimal\n",
    "    # now convert p to octal - base 8\n",
    "    out = \"\"\n",
    "    while p > 0:\n",
    "        u = p % 8\n",
    "        out = str(u) + out\n",
    "        p = p // 8\n",
    "    return out"
   ]
  },
  {
   "cell_type": "code",
   "execution_count": 100,
   "metadata": {},
   "outputs": [
    {
     "data": {
      "text/plain": [
       "'36'"
      ]
     },
     "execution_count": 100,
     "metadata": {},
     "output_type": "execute_result"
    }
   ],
   "source": [
    "hexadecimal_to_octal('1A')"
   ]
  },
  {
   "cell_type": "code",
   "execution_count": 95,
   "metadata": {},
   "outputs": [
    {
     "data": {
      "text/plain": [
       "14"
      ]
     },
     "execution_count": 95,
     "metadata": {},
     "output_type": "execute_result"
    }
   ],
   "source": [
    "m = list(lookup.keys())[list(lookup.values()).index('E')]\n",
    "m"
   ]
  }
 ],
 "metadata": {
  "kernelspec": {
   "display_name": "Python 3",
   "language": "python",
   "name": "python3"
  },
  "language_info": {
   "codemirror_mode": {
    "name": "ipython",
    "version": 3
   },
   "file_extension": ".py",
   "mimetype": "text/x-python",
   "name": "python",
   "nbconvert_exporter": "python",
   "pygments_lexer": "ipython3",
   "version": "3.6.4"
  }
 },
 "nbformat": 4,
 "nbformat_minor": 2
}
